{
 "cells": [
  {
   "cell_type": "code",
   "execution_count": 1,
   "id": "fa262e81",
   "metadata": {},
   "outputs": [],
   "source": [
    "import numpy as np\n",
    "def DMD(data, r):\n",
    "    ## Build data matrices\n",
    "    X1 = data[:,:-1]\n",
    "    X2 = data[:,1:]\n",
    "    ## Perform singular value decomposition on X1\n",
    "    u, s, v = np.linalg.svd(X1, full_matrices = False)\n",
    "    ## Compute the Koopman matrix\n",
    "    A_tilde = u[:, : r].conj().T @ X2 @ v[: r, :].conj().T * np.reciprocal(s[: r])\n",
    "    ## Perform eigenvalue decomposition on A_tilde\n",
    "    Phi, Q = np.linalg.eig(A_tilde)\n",
    "    ## Compute the coefficient matrix\n",
    "    Psi = X2 @ v[: r, :].conj().T @ np.diag(np.reciprocal(s[: r])) @ Q\n",
    "    A = Psi @ np.diag(Phi) @ np.linalg.pinv(Psi)\n",
    "    \n",
    "    return A_tilde, Phi, A"
   ]
  },
  {
   "cell_type": "code",
   "execution_count": 2,
   "id": "7fdf11ed",
   "metadata": {},
   "outputs": [],
   "source": [
    "def DMDForecast(data, r, pred_step):\n",
    "    N, T = data.shape\n",
    "    _, _, A = DMD(data, r)\n",
    "    mat = np.append(data, np.zeros((N, pred_step)), axis = 1)\n",
    "    for s in range(pred_step):\n",
    "        mat[:, T + s] = (A @ mat[:, T + s - 1]).real\n",
    "    return mat[:, - pred_step :]"
   ]
  },
  {
   "cell_type": "code",
   "execution_count": 3,
   "id": "b04050e3",
   "metadata": {},
   "outputs": [],
   "source": [
    "import pandas as pd\n",
    "data = pd.read_csv('DemandWithFeatures.csv')"
   ]
  },
  {
   "cell_type": "code",
   "execution_count": 4,
   "id": "50518fc7",
   "metadata": {},
   "outputs": [],
   "source": [
    "data = data.drop(columns = ['Time', 'Day', 'Month', 'Year', 'Winter', 'Spring', 'Summer', 'Fall'])"
   ]
  },
  {
   "cell_type": "code",
   "execution_count": 26,
   "id": "0ad6e7f5",
   "metadata": {},
   "outputs": [],
   "source": [
    "data = data[:24000]"
   ]
  },
  {
   "cell_type": "code",
   "execution_count": 27,
   "id": "c32a29c6",
   "metadata": {},
   "outputs": [],
   "source": [
    "def minmaxscaler(data):\n",
    "    minX = data.min()\n",
    "    maxX = data.max()\n",
    "    scaled_X = (X-minX)/(maxX-minX)\n",
    "    return scaled_X, minX, maxX"
   ]
  },
  {
   "cell_type": "code",
   "execution_count": 28,
   "id": "7a0d17e5",
   "metadata": {},
   "outputs": [
    {
     "data": {
      "text/plain": [
       "array([11,  6,  9, ...,  4,  3,  0], dtype=int64)"
      ]
     },
     "execution_count": 28,
     "metadata": {},
     "output_type": "execute_result"
    }
   ],
   "source": [
    "data.Demand.values[24:]"
   ]
  },
  {
   "cell_type": "code",
   "execution_count": 70,
   "id": "1091f651",
   "metadata": {},
   "outputs": [],
   "source": [
    "X = [data.Demand.values[i:int(len(data)/2)+i] for i in range(int(len(data)/2))]"
   ]
  },
  {
   "cell_type": "code",
   "execution_count": 83,
   "id": "9ee8115e",
   "metadata": {},
   "outputs": [],
   "source": [
    "hankel_matrix = np.vstack(X)"
   ]
  },
  {
   "cell_type": "code",
   "execution_count": 84,
   "id": "5f0d9d60",
   "metadata": {},
   "outputs": [
    {
     "data": {
      "text/plain": [
       "(12000, 12000)"
      ]
     },
     "execution_count": 84,
     "metadata": {},
     "output_type": "execute_result"
    }
   ],
   "source": [
    "np.shape(X)"
   ]
  },
  {
   "cell_type": "code",
   "execution_count": 85,
   "id": "29a25bc5",
   "metadata": {},
   "outputs": [],
   "source": [
    "pred_step = 56\n",
    "r = 12000"
   ]
  },
  {
   "cell_type": "code",
   "execution_count": null,
   "id": "d7fb3ed7",
   "metadata": {},
   "outputs": [],
   "source": [
    "modes = DMDForecast(np.array(X), r, pred_step)\n",
    "\n",
    "print(modes)"
   ]
  },
  {
   "cell_type": "code",
   "execution_count": null,
   "id": "a02a8dbe",
   "metadata": {},
   "outputs": [],
   "source": [
    "import matplotlib.pyplot as plt\n",
    "\n",
    "plt.plot(modes[0])"
   ]
  },
  {
   "cell_type": "code",
   "execution_count": null,
   "id": "5e3e1f0e",
   "metadata": {},
   "outputs": [],
   "source": []
  }
 ],
 "metadata": {
  "kernelspec": {
   "display_name": "Python 3 (ipykernel)",
   "language": "python",
   "name": "python3"
  },
  "language_info": {
   "codemirror_mode": {
    "name": "ipython",
    "version": 3
   },
   "file_extension": ".py",
   "mimetype": "text/x-python",
   "name": "python",
   "nbconvert_exporter": "python",
   "pygments_lexer": "ipython3",
   "version": "3.11.1"
  }
 },
 "nbformat": 4,
 "nbformat_minor": 5
}
